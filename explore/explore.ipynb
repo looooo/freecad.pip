{
 "cells": [
  {
   "cell_type": "markdown",
   "metadata": {},
   "source": [
    "# Thoughts on pip integration in FreeCAD\n",
    "\n",
    "find a way to to integrate pip-support in freecad which works with all builds. Mostly this means finding a compromise which works for bundles and for system versions of FreeCAD.\n",
    "\n",
    "1. app / gui\n",
    "providing a simple way to install packages from the command line is the first step. Once we figure out a way that works for all builds we can extend this to gui-functionality.\n",
    "\n",
    "2. api design\n",
    "make the api-design as simple as possible and similar to pip command-line-tool\n",
    "\n",
    "3. --user flag\n",
    "As we cannot and don't want to install to any root directories we are forced to use the --user flag. This will install to a local directory.\n",
    "\n",
    "4. support different directories\n",
    "This will give the opportunity to select between different dependency-trees, try out new things,.. without the need to reinstall freecad. (Similar to what environments provide for systems)\n",
    "\n",
    "5. constraint file\n",
    "The constraint file provides a method to install stuff in a more secure (stable) way. In bundles and system-installation of freecad, there are some packages already preinstalled. To not mess with these packages and introduce incompabilities we should constraint this packages to there installed versions. This way pip will not update any of the constraint packages. For example this file can be created everytime the freecad.pip package is imported. All packages which are not part of the user site package or a custom site package are listed in this constraint file.\n",
    "It would be also nice to add additional constraints to this file. But currently I am not sure how to acchieve this.\n",
    "\n"
   ]
  },
  {
   "cell_type": "code",
   "execution_count": 3,
   "metadata": {},
   "outputs": [],
   "source": [
    "import os\n",
    "import copy\n",
    "import tempfile\n",
    "import subprocess as subp\n",
    "\n",
    "print_msg = print\n",
    "print_err = print\n",
    "\n",
    "def process(*args):\n",
    "    proc = subp.Popen(args, stdout=subp.PIPE, stderr=subp.PIPE)\n",
    "    out, err = proc.communicate()\n",
    "    if err:\n",
    "        raise RuntimeError(err.decode(\"utf8\"))\n",
    "    return out.decode(\"utf8\")\n",
    "\n",
    "class _pip(object):\n",
    "    def __init__(self):\n",
    "        self.constraint_file = tempfile.mktemp(prefix=\"constraints\", suffix=\".txt\")\n",
    "        self.freeze()\n",
    "\n",
    "    def _c_option(self):\n",
    "        \"\"\"\n",
    "        internal function, returns the option to constraint packages\n",
    "        \"\"\"\n",
    "        return \"-c{}\".format(self.constraint_file)\n",
    "\n",
    "    @staticmethod\n",
    "    def _convert_pkgs_list(text):\n",
    "        if text:\n",
    "            return [i.split()[:2] for i in text.split(\"\\n\")[2:-1]]\n",
    "        else:\n",
    "            return []\n",
    "\n",
    "    def install(self, pkg_name):\n",
    "        print_msg(process(\"pip\", \"install\", pkg_name, \"--user\", self._c_option()))\n",
    "    \n",
    "    def install_develop(self, fp):\n",
    "        print_msg(process(\"pip\", \"install\", \"-e\", fp, \"--user\", self._c_option()))\n",
    "\n",
    "    def uninstall(self, pkg_name):\n",
    "        if pkg_name not in [i[0] for i in self.list_user()]:\n",
    "            print_err(\"pkg is not a user-package\")\n",
    "        else:\n",
    "            print_msg(process(\"pip\", \"uninstall\", pkg_name, \"-y\"))\n",
    "    \n",
    "    def list(self):\n",
    "        \"\"\"\n",
    "        lists all packages\n",
    "        \"\"\"\n",
    "        packages = process(\"pip\", \"list\")\n",
    "        return self._convert_pkgs_list(packages)\n",
    "    \n",
    "    def list_user(self):\n",
    "        \"\"\"\n",
    "        lists all user packages\n",
    "        \"\"\"\n",
    "        packages = process(\"pip\", \"list\", \"--user\")\n",
    "        return self._convert_pkgs_list(packages)\n",
    "\n",
    "    def list_editable(self):\n",
    "        \"\"\"\n",
    "        lists all packages\n",
    "        \"\"\"\n",
    "        packages = process(\"pip\", \"list\", \"--editable\")\n",
    "        return self._convert_pkgs_list(packages)\n",
    "    \n",
    "    def list_system(self):\n",
    "        editable = self.list_editable()\n",
    "        user = self.list_user()\n",
    "        non_system = editable + user\n",
    "        return [pkg for pkg in self.list() if not pkg in non_system]\n",
    "\n",
    "    def freeze(self):\n",
    "        \"\"\"\n",
    "        sets all installed packages fixed. This means these packages won't be updated.\n",
    "        \"\"\"\n",
    "        with open(self.constraint_file, \"w\") as fp:\n",
    "            for pkg_name, version in self.list_system():\n",
    "                fp.write(\"{}=={}\\n\".format(pkg_name, version))         \n",
    "\n",
    "    def set_fixed(self, pkg_name, fixed=True):\n",
    "        \"\"\"\n",
    "        sets the package fixed, or release a fixed package if package is fixed and argument fixed is False\n",
    "        \"\"\"\n",
    "        pass\n",
    "\n",
    "    def select_user_install_dir(self, install_dir):\n",
    "        \"\"\"\n",
    "        Advanced option to sets the user install dir. This allows to use different directories\n",
    "        for 3rd-party packages. This can be useful if different addons need different\n",
    "        dependency-versions. This will require a restart of FreeCAD, because sys.path has to be \n",
    "        recomputed.\n",
    "        \"\"\"\n",
    "        os.env[\"PYTHONUSERBASE\"] = install_dir\n",
    "\n",
    "pip = _pip()\n"
   ]
  },
  {
   "cell_type": "code",
   "execution_count": 4,
   "metadata": {},
   "outputs": [
    {
     "name": "stdout",
     "output_type": "stream",
     "text": [
      "Requirement already satisfied: template-extension in /home/k/.local/lib/python3.6/site-packages (0.7)\n",
      "Requirement already satisfied: numpy==1.14.3 in /home/k/conda/envs/freecad/lib/python3.6/site-packages (from -c /tmp/constraintsqfputfaw.txt (line 44)) (1.14.3)\n",
      "\n",
      "Requirement already satisfied: cadquery in /home/k/.local/lib/python3.6/site-packages (1.2.0)\n",
      "Requirement already satisfied: pyparsing==2.2.0 in /home/k/conda/envs/freecad/lib/python3.6/site-packages (from -c /tmp/constraintsqfputfaw.txt (line 63)) (2.2.0)\n",
      "\n"
     ]
    }
   ],
   "source": [
    "pip.install(\"template-extension\")\n",
    "pip.install(\"cadquery\")"
   ]
  },
  {
   "cell_type": "code",
   "execution_count": 5,
   "metadata": {},
   "outputs": [
    {
     "data": {
      "text/plain": [
       "[['cadquery', '1.2.0'], ['template-extension', '0.7']]"
      ]
     },
     "execution_count": 5,
     "metadata": {},
     "output_type": "execute_result"
    }
   ],
   "source": [
    "pip.list_user()"
   ]
  },
  {
   "cell_type": "code",
   "execution_count": 6,
   "metadata": {},
   "outputs": [
    {
     "name": "stdout",
     "output_type": "stream",
     "text": [
      "Uninstalling template-extension-0.7:\n",
      "  Successfully uninstalled template-extension-0.7\n",
      "\n",
      "Uninstalling cadquery-1.2.0:\n",
      "  Successfully uninstalled cadquery-1.2.0\n",
      "\n"
     ]
    }
   ],
   "source": [
    "pip.uninstall(\"template-extension\")\n",
    "pip.uninstall(\"cadquery\")"
   ]
  },
  {
   "cell_type": "code",
   "execution_count": 7,
   "metadata": {},
   "outputs": [
    {
     "data": {
      "text/plain": [
       "[]"
      ]
     },
     "execution_count": 7,
     "metadata": {},
     "output_type": "execute_result"
    }
   ],
   "source": [
    "pip.list_user()"
   ]
  },
  {
   "cell_type": "code",
   "execution_count": 8,
   "metadata": {},
   "outputs": [
    {
     "data": {
      "text/plain": [
       "[['freecad.pip', '0.0.1']]"
      ]
     },
     "execution_count": 8,
     "metadata": {},
     "output_type": "execute_result"
    }
   ],
   "source": [
    "pip.list_editable()"
   ]
  },
  {
   "cell_type": "code",
   "execution_count": 9,
   "metadata": {},
   "outputs": [
    {
     "name": "stdout",
     "output_type": "stream",
     "text": [
      "Obtaining file:///home/k/projects/OpenGlider\n",
      "Requirement already satisfied: ezdxf==0.8.8 in /home/k/conda/envs/freecad/lib/python3.6/site-packages (from -c /tmp/constraintsqfputfaw.txt (line 16)) (0.8.8)\n",
      "Requirement already satisfied: ezodf==0.3.2 in /home/k/conda/envs/freecad/lib/python3.6/site-packages (from -c /tmp/constraintsqfputfaw.txt (line 17)) (0.3.2)\n",
      "Requirement already satisfied: MeshPy==2018.1 in /home/k/conda/envs/freecad/lib/python3.6/site-packages (from -c /tmp/constraintsqfputfaw.txt (line 38)) (2018.1)\n",
      "Requirement already satisfied: numpy==1.14.3 in /home/k/conda/envs/freecad/lib/python3.6/site-packages (from -c /tmp/constraintsqfputfaw.txt (line 44)) (1.14.3)\n",
      "Requirement already satisfied: pyparsing==2.2.0 in /home/k/conda/envs/freecad/lib/python3.6/site-packages (from -c /tmp/constraintsqfputfaw.txt (line 63)) (2.2.0)\n",
      "Requirement already satisfied: pytest==3.7.4 in /home/k/conda/envs/freecad/lib/python3.6/site-packages (from -c /tmp/constraintsqfputfaw.txt (line 64)) (3.7.4)\n",
      "Requirement already satisfied: pytools==2018.5.2 in /home/k/conda/envs/freecad/lib/python3.6/site-packages (from -c /tmp/constraintsqfputfaw.txt (line 66)) (2018.5.2)\n",
      "Requirement already satisfied: setuptools==40.2.0 in /home/k/conda/envs/freecad/lib/python3.6/site-packages (from -c /tmp/constraintsqfputfaw.txt (line 71)) (40.2.0)\n",
      "Requirement already satisfied: six==1.11.0 in /home/k/conda/envs/freecad/lib/python3.6/site-packages (from -c /tmp/constraintsqfputfaw.txt (line 73)) (1.11.0)\n",
      "Requirement already satisfied: svgwrite==1.1.12 in /home/k/conda/envs/freecad/lib/python3.6/site-packages (from -c /tmp/constraintsqfputfaw.txt (line 74)) (1.1.12)\n",
      "Collecting pyexcel (from OpenGlider==0.1)\n",
      "  Downloading https://files.pythonhosted.org/packages/3f/aa/e5233ec3d36c5aab4d7aa07ae9777ee18b3ed032428eab0ed792d32c2cf5/pyexcel-0.5.9.1-py2.py3-none-any.whl (90kB)\n",
      "Collecting pyexcel-ods (from OpenGlider==0.1)\n",
      "  Using cached https://files.pythonhosted.org/packages/e6/4f/2f20a241ff57297109241842423d23887901233a5613e179bf2e0254ec18/pyexcel_ods-0.5.3-py2.py3-none-any.whl\n",
      "Collecting gmsh_interop (from MeshPy==2018.1->-c /tmp/constraintsqfputfaw.txt (line 38))\n",
      "Requirement already satisfied: py==1.6.0 in /home/k/conda/envs/freecad/lib/python3.6/site-packages (from -c /tmp/constraintsqfputfaw.txt (line 56)) (1.6.0)\n",
      "Requirement already satisfied: attrs==18.1.0 in /home/k/conda/envs/freecad/lib/python3.6/site-packages (from -c /tmp/constraintsqfputfaw.txt (line 4)) (18.1.0)\n",
      "Requirement already satisfied: more-itertools==4.3.0 in /home/k/conda/envs/freecad/lib/python3.6/site-packages (from -c /tmp/constraintsqfputfaw.txt (line 40)) (4.3.0)\n",
      "Requirement already satisfied: atomicwrites==1.1.5 in /home/k/conda/envs/freecad/lib/python3.6/site-packages (from -c /tmp/constraintsqfputfaw.txt (line 3)) (1.1.5)\n",
      "Requirement already satisfied: pluggy==0.7.1 in /home/k/conda/envs/freecad/lib/python3.6/site-packages (from -c /tmp/constraintsqfputfaw.txt (line 52)) (0.7.1)\n",
      "Requirement already satisfied: decorator==4.3.0 in /home/k/conda/envs/freecad/lib/python3.6/site-packages (from -c /tmp/constraintsqfputfaw.txt (line 14)) (4.3.0)\n",
      "Requirement already satisfied: appdirs==1.4.3 in /home/k/conda/envs/freecad/lib/python3.6/site-packages (from -c /tmp/constraintsqfputfaw.txt (line 1)) (1.4.3)\n",
      "Collecting texttable>=0.8.1 (from pyexcel->OpenGlider==0.1)\n",
      "  Downloading https://files.pythonhosted.org/packages/4d/35/88cd3b6c9cfe79f98fa52a57843fc6501988b9da13dce1e6a27e1d70d357/texttable-1.4.0.tar.gz\n",
      "Collecting lml>=0.0.2 (from pyexcel->OpenGlider==0.1)\n",
      "  Downloading https://files.pythonhosted.org/packages/f1/bb/265bbc788ad87d147410a8b2fe1b21fc9f745c8612ebaa4da2e707c3a6f3/lml-0.0.4-py2.py3-none-any.whl\n",
      "Collecting pyexcel-io>=0.5.9.1 (from pyexcel->OpenGlider==0.1)\n",
      "  Downloading https://files.pythonhosted.org/packages/45/fa/a387a0acd9156733c32c2c3fa31a9fe55a6705e3d96795dcad2b9579094e/pyexcel_io-0.5.9.1-py2.py3-none-any.whl (43kB)\n",
      "Collecting odfpy==1.3.5 (from pyexcel-ods->OpenGlider==0.1)\n",
      "  Using cached https://files.pythonhosted.org/packages/9d/32/1428fe19eba9e3ebedd00194ecb2c7261d7114aa72c9aed019097b746066/odfpy-1.3.5.tar.gz\n",
      "Building wheels for collected packages: texttable, odfpy\n",
      "  Running setup.py bdist_wheel for texttable: started\n",
      "  Running setup.py bdist_wheel for texttable: finished with status 'done'\n",
      "  Stored in directory: /home/k/.cache/pip/wheels/be/6d/c5/53bc7f399edd50882b855679c1e3667e596f21fee9c8fa35db\n",
      "  Running setup.py bdist_wheel for odfpy: started\n",
      "  Running setup.py bdist_wheel for odfpy: finished with status 'done'\n",
      "  Stored in directory: /home/k/.cache/pip/wheels/dd/26/a2/f1fc5deeaca8726a236fc27a346a703caa3b859cb763b294c8\n",
      "Successfully built texttable odfpy\n",
      "Installing collected packages: texttable, lml, pyexcel-io, pyexcel, odfpy, pyexcel-ods, OpenGlider, gmsh-interop\n",
      "  Running setup.py develop for OpenGlider\n",
      "Successfully installed OpenGlider gmsh-interop-2017.1 lml-0.0.4 odfpy-1.3.5 pyexcel-0.5.9.1 pyexcel-io-0.5.9.1 pyexcel-ods-0.5.3 texttable-1.4.0\n",
      "\n"
     ]
    }
   ],
   "source": [
    "pip.install_develop(\"/home/k/projects/OpenGlider/\")"
   ]
  },
  {
   "cell_type": "code",
   "execution_count": 10,
   "metadata": {},
   "outputs": [
    {
     "data": {
      "text/plain": [
       "[['gmsh-interop', '2017.1'],\n",
       " ['lml', '0.0.4'],\n",
       " ['odfpy', '1.3.5'],\n",
       " ['OpenGlider', '0.1'],\n",
       " ['pyexcel', '0.5.9.1'],\n",
       " ['pyexcel-io', '0.5.9.1'],\n",
       " ['pyexcel-ods', '0.5.3'],\n",
       " ['texttable', '1.4.0']]"
      ]
     },
     "execution_count": 10,
     "metadata": {},
     "output_type": "execute_result"
    }
   ],
   "source": [
    "pip.list_user()"
   ]
  },
  {
   "cell_type": "code",
   "execution_count": 11,
   "metadata": {},
   "outputs": [
    {
     "data": {
      "text/plain": [
       "[['freecad.pip', '0.0.1'], ['OpenGlider', '0.1']]"
      ]
     },
     "execution_count": 11,
     "metadata": {},
     "output_type": "execute_result"
    }
   ],
   "source": [
    "pip.list_editable()"
   ]
  },
  {
   "cell_type": "code",
   "execution_count": null,
   "metadata": {},
   "outputs": [],
   "source": []
  }
 ],
 "metadata": {
  "kernelspec": {
   "display_name": "Python 3",
   "language": "python",
   "name": "python3"
  },
  "language_info": {
   "codemirror_mode": {
    "name": "ipython",
    "version": 3
   },
   "file_extension": ".py",
   "mimetype": "text/x-python",
   "name": "python",
   "nbconvert_exporter": "python",
   "pygments_lexer": "ipython3",
   "version": "3.6.6"
  }
 },
 "nbformat": 4,
 "nbformat_minor": 2
}
